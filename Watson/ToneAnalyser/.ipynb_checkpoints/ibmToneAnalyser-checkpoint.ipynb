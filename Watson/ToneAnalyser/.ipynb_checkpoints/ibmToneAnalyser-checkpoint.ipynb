{
 "cells": [
  {
   "cell_type": "code",
   "execution_count": 1,
   "metadata": {
    "collapsed": false
   },
   "outputs": [],
   "source": [
    "import requests"
   ]
  },
  {
   "cell_type": "code",
   "execution_count": null,
   "metadata": {
    "collapsed": false
   },
   "outputs": [],
   "source": [
    "username = input(\"Enter username: \")"
   ]
  },
  {
   "cell_type": "code",
   "execution_count": null,
   "metadata": {
    "collapsed": false
   },
   "outputs": [],
   "source": [
    "password = input(\"Enter password: \")"
   ]
  },
  {
   "cell_type": "code",
   "execution_count": null,
   "metadata": {
    "collapsed": false
   },
   "outputs": [],
   "source": [
    "url = input(\"Enter URL: \")"
   ]
  },
  {
   "cell_type": "code",
   "execution_count": 29,
   "metadata": {
    "collapsed": false
   },
   "outputs": [
    {
     "name": "stdout",
     "output_type": "stream",
     "text": [
      "Enter statement to analyze: I don't like this one bit. I appreciate the effort. However, we need to do better\n"
     ]
    }
   ],
   "source": [
    "statement = input(\"Enter statement/paragraph to analyze: \")"
   ]
  },
  {
   "cell_type": "code",
   "execution_count": 30,
   "metadata": {
    "collapsed": true
   },
   "outputs": [],
   "source": [
    "route = '/v3/tone'"
   ]
  },
  {
   "cell_type": "code",
   "execution_count": 31,
   "metadata": {
    "collapsed": false
   },
   "outputs": [],
   "source": [
    "params = {\n",
    "    \"version\" : \"2017-09-21\",\n",
    "    \"text\" : statement\n",
    "}\n",
    "\n",
    "headers = {\n",
    "    \"Content-Type\" : \"application/json\",\n",
    "}\n",
    "\n",
    "auth = (username, password)"
   ]
  },
  {
   "cell_type": "code",
   "execution_count": 34,
   "metadata": {
    "collapsed": true
   },
   "outputs": [],
   "source": [
    "fullURL = url + route"
   ]
  },
  {
   "cell_type": "code",
   "execution_count": 35,
   "metadata": {
    "collapsed": true
   },
   "outputs": [],
   "source": [
    "req = requests.get(params=params, headers=headers, url=fullURL, auth=auth)\n",
    "res = req.json()"
   ]
  },
  {
   "cell_type": "code",
   "execution_count": 45,
   "metadata": {
    "collapsed": false
   },
   "outputs": [
    {
     "name": "stdout",
     "output_type": "stream",
     "text": [
      "Overall document tones are: \n",
      "Tone: Analytical; Score: 0.908592\n",
      "Tone: Tentative; Score: 0.789226\n"
     ]
    }
   ],
   "source": [
    "print(\"Overall document tones are: \")\n",
    "for tone in res['document_tone']['tones']:\n",
    "    print(\"Tone: {0}; Score: {1}\".format(tone['tone_name'], tone['score']))"
   ]
  },
  {
   "cell_type": "code",
   "execution_count": 48,
   "metadata": {
    "collapsed": false
   },
   "outputs": [
    {
     "name": "stdout",
     "output_type": "stream",
     "text": [
      "Individual sentence sentiments were: \n",
      "Sentence: I don't like this one bit.\n",
      "Tone: Sadness; Score: 0.546332\n",
      "Tone: Tentative; Score: 0.75152\n",
      "\n",
      "Sentence: I appreciate the effort.\n",
      "Tone: Joy; Score: 0.697704\n",
      "Tone: Analytical; Score: 0.920855\n",
      "\n",
      "Sentence: However, we need to do better\n",
      "Tone: Analytical; Score: 0.842108\n",
      "\n"
     ]
    }
   ],
   "source": [
    "print(\"Individual sentence sentiments were: \")\n",
    "for sentence in res['sentences_tone']:\n",
    "    print(\"Sentence: {0}\".format(sentence['text']))\n",
    "    for tones in sentence['tones']:\n",
    "        print(\"Tone: {0}; Score: {1}\".format(tones['tone_name'], tones['score']))\n",
    "    print()"
   ]
  }
 ],
 "metadata": {
  "kernelspec": {
   "display_name": "Python [conda root]",
   "language": "python",
   "name": "conda-root-py"
  },
  "language_info": {
   "codemirror_mode": {
    "name": "ipython",
    "version": 3
   },
   "file_extension": ".py",
   "mimetype": "text/x-python",
   "name": "python",
   "nbconvert_exporter": "python",
   "pygments_lexer": "ipython3",
   "version": "3.6.0"
  }
 },
 "nbformat": 4,
 "nbformat_minor": 2
}
