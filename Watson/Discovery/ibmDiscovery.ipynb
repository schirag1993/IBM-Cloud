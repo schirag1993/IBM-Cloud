{
 "cells": [
  {
   "cell_type": "code",
   "execution_count": 4,
   "metadata": {},
   "outputs": [],
   "source": [
    "import json, requests, re\n",
    "import numpy as np\n",
    "from pprint import pprint\n",
    "from watson_developer_cloud import DiscoveryV1"
   ]
  },
  {
   "cell_type": "code",
   "execution_count": 5,
   "metadata": {},
   "outputs": [],
   "source": [
    "def getIBMCreds():\n",
    "#     credentials = json.load(open('../credentials.json'))\n",
    "    username = input(\"Enter username: \")\n",
    "    url = input(\"Enter url: \")\n",
    "    password = input(\"Enter password: \")\n",
    "    ibmCreds = {\n",
    "        'username' : username,\n",
    "        'password' : password,\n",
    "        'url' : url\n",
    "    }\n",
    "#     ibmCreds = credentials['ibm']['discovery']\n",
    "    return ibmCreds"
   ]
  },
  {
   "cell_type": "code",
   "execution_count": 6,
   "metadata": {},
   "outputs": [],
   "source": [
    "def getQuery():\n",
    "    query = input('Enter the query to be searched: ')\n",
    "    return(query)"
   ]
  },
  {
   "cell_type": "code",
   "execution_count": 7,
   "metadata": {},
   "outputs": [],
   "source": [
    "def constructQuery(query):\n",
    "    query_options = {'natural_language_query': query,\n",
    "                 'count' : 3,\n",
    "                 'passages':True}\n",
    "    return(query_options)"
   ]
  },
  {
   "cell_type": "code",
   "execution_count": 8,
   "metadata": {},
   "outputs": [],
   "source": [
    "def getQueryResults(discoveryDetails, queryOptions):\n",
    "    env_id, collections, discovery = discoveryDetails\n",
    "    queryResults = discovery.query(environment_id=env_id, \n",
    "                               collection_id=collections[0]['collection_id'],\n",
    "                               natural_language_query=queryOptions['natural_language_query'], \n",
    "                               passages=queryOptions['passages'], count=queryOptions['count'])\n",
    "    return(queryResults)"
   ]
  },
  {
   "cell_type": "code",
   "execution_count": 9,
   "metadata": {},
   "outputs": [],
   "source": [
    "def cleanPassage(passage):\n",
    "    tagRegEx = re.compile('<.*?>')\n",
    "    cleanedText = re.sub(tagRegEx, '', passage)\n",
    "    cleanedText = cleanedText.rstrip()\n",
    "    cleanedText = cleanedText.replace('\\n', '. ')\n",
    "    return(cleanedText)"
   ]
  },
  {
   "cell_type": "code",
   "execution_count": 10,
   "metadata": {},
   "outputs": [],
   "source": [
    "def getPassage(queryResults):\n",
    "    passages = []\n",
    "    for passage in queryResults['passages']:\n",
    "        passages.append(passage)\n",
    "    passageScore = 0\n",
    "    targetPassages = []\n",
    "    for passage in passages:\n",
    "        for key in passage.keys():\n",
    "            if(passageScore < passage['passage_score']):\n",
    "                passageScore = passage['passage_score']\n",
    "                targetPassages.append(passage)\n",
    "    targetPassage = targetPassages[0]['passage_text']\n",
    "    cleanedPassage = cleanPassage(targetPassage)\n",
    "    print(\"Target passage with highest score is: \")\n",
    "    print(targetPassage)\n",
    "    return(cleanedPassage)"
   ]
  },
  {
   "cell_type": "code",
   "execution_count": 11,
   "metadata": {},
   "outputs": [],
   "source": [
    "def askDiscovery():\n",
    "    print(\"--------------------***--------------------\")\n",
    "    print(\"IBM CREDENTIALS: \")\n",
    "    print(\"--------------------***--------------------\") \n",
    "    ibmCreds = getIBMCreds()\n",
    "    print(\"--------------------***--------------------\")\n",
    "    print(\"--------------------***--------------------\")\n",
    "    discovery = DiscoveryV1(version='2017-11-07',\n",
    "                            username=ibmCreds['username'],\n",
    "                            password=ibmCreds['password'])\n",
    "    env = discovery.list_environments()['environments'][1]\n",
    "    env_id = env['environment_id']\n",
    "    collections = discovery.list_collections(env_id)\n",
    "    collections = collections['collections']\n",
    "    discoveryDetails = (env_id, collections, discovery)\n",
    "    print(\"--------------------***--------------------\")\n",
    "    print(\"QUERY: \")\n",
    "    print(\"--------------------***--------------------\")\n",
    "    query = getQuery()\n",
    "    print(\"--------------------***--------------------\")\n",
    "    print(\"--------------------***--------------------\")\n",
    "    queryOptions = constructQuery(query)\n",
    "    queryResults = getQueryResults(discoveryDetails, queryOptions)\n",
    "    passage = getPassage(queryResults)\n",
    "    print(\"--------------------***--------------------\")\n",
    "    print(\"Passage after cleaning is: \")\n",
    "    print(\"--------------------***--------------------\")\n",
    "    print(passage)\n",
    "    print(\"========================================================================================\")\n",
    "    return(passage)"
   ]
  },
  {
   "cell_type": "code",
   "execution_count": null,
   "metadata": {},
   "outputs": [],
   "source": [
    "a = askDiscovery()"
   ]
  }
 ],
 "metadata": {
  "kernelspec": {
   "display_name": "Python 3",
   "language": "python",
   "name": "python3"
  },
  "language_info": {
   "codemirror_mode": {
    "name": "ipython",
    "version": 3
   },
   "file_extension": ".py",
   "mimetype": "text/x-python",
   "name": "python",
   "nbconvert_exporter": "python",
   "pygments_lexer": "ipython3",
   "version": "3.5.4"
  }
 },
 "nbformat": 4,
 "nbformat_minor": 2
}
